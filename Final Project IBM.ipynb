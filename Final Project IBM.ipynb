{
 "cells": [
  {
   "cell_type": "code",
   "execution_count": 8,
   "id": "98a31f9e",
   "metadata": {},
   "outputs": [],
   "source": [
    "import csv\n",
    "import re\n",
    "employees = [] \n",
    "# load data in csv\n",
    "def load_employees():\n",
    "    try:\n",
    "        with open('employees.csv', mode='r') as file:\n",
    "            reader = csv.reader(file)\n",
    "            for row in reader:\n",
    "                employees.append(row)\n",
    "    except FileNotFoundError:  #-->  It is used to handle errors that may occur  <--\n",
    "        print(\"No data file. A new file will be created upon saving.\")\n"
   ]
  },
  {
   "cell_type": "code",
   "execution_count": 9,
   "id": "52c9811f",
   "metadata": {},
   "outputs": [],
   "source": [
    "#save data in csv\n",
    "def save_employees():\n",
    "    with open('employees.csv', mode='w', newline='') as file:\n",
    "        writer = csv.writer(file)\n",
    "        writer.writerows(employees)"
   ]
  },
  {
   "cell_type": "code",
   "execution_count": 10,
   "id": "2be54c10",
   "metadata": {},
   "outputs": [],
   "source": [
    "#add new emp\n",
    "def add_employee():\n",
    "    emp_id = input(\"Enter emp number: \")\n",
    "    name = input(\"Enter emp name: \")\n",
    "    position = input(\"Enter the job: \")\n",
    "    salary = input(\"Enter salary: \")\n",
    "    Email = input (\"Enter email:\")\n",
    "    Email_pattern = r\"^[a-zA-Z0-9_.+-]+@gmail\\.com$\"\n",
    "    \n",
    "    if not re.match(Email_pattern, Email):\n",
    "        print(\"Invalid email format. Please enter an email in the format ****@gmail.com 😄\")\n",
    "        return \n",
    "    employees.append([emp_id, name, position, salary, Email])\n",
    "    print(\"The employee has been added successfully!\")"
   ]
  },
  {
   "cell_type": "code",
   "execution_count": 11,
   "id": "32390509",
   "metadata": {},
   "outputs": [],
   "source": [
    "#dis emp\n",
    "def display_employees():\n",
    "    if not employees:\n",
    "        print(\"There are no employees to display.\")\n",
    "    else:\n",
    "        print(\"employees data:\")\n",
    "        for emp in employees:\n",
    "            print(f\"ID: {emp[0]}, Name: {emp[1]}, Position: {emp[2]}, Salary: {emp[3]}\")\n"
   ]
  },
  {
   "cell_type": "code",
   "execution_count": 12,
   "id": "5bc4ddc0",
   "metadata": {},
   "outputs": [],
   "source": [
    "#delete emp\n",
    "def delete_employee():\n",
    "    emp_id = input(\"Enter emp number to delete: \")\n",
    "    for emp in employees:\n",
    "        if emp[0] == emp_id:\n",
    "            employees.remove(emp)\n",
    "            print(\"The employee has been deleted successfully!\")\n",
    "            return\n",
    "    print(\"The employee is not exist!\")\n"
   ]
  },
  {
   "cell_type": "code",
   "execution_count": 13,
   "id": "6f52a9f4",
   "metadata": {},
   "outputs": [],
   "source": [
    "#search on emp\n",
    "def search_employee():\n",
    "    emp_id = input(\"Enter the employee number to search for him: \")\n",
    "    for emp in employees:\n",
    "        if emp[0] == emp_id:\n",
    "            print(f\"Employee found: ID: {emp[0]}, Name: {emp[1]}, Position: {emp[2]}, Salary: {emp[3]}\")\n",
    "            return\n",
    "    print(\"The employee is not exist!\")\n"
   ]
  },
  {
   "cell_type": "code",
   "execution_count": null,
   "id": "6ba15867",
   "metadata": {},
   "outputs": [
    {
     "name": "stdout",
     "output_type": "stream",
     "text": [
      "No data file. A new file will be created upon saving.\n",
      "\n",
      "Employee Management System\n",
      "1-> Add Employee\n",
      "2-> View Employees\n",
      "3-> Delete Employee\n",
      "4-> Search Employee\n",
      "5-> Exit\n"
     ]
    }
   ],
   "source": [
    "def main():\n",
    "    load_employees()\n",
    "    choice = ''  \n",
    "    while choice != '5':  \n",
    "        print(\"\\nEmployee Management System\")\n",
    "        print(\"1-> Add Employee\")\n",
    "        print(\"2-> View Employees\")\n",
    "        print(\"3-> Delete Employee\")\n",
    "        print(\"4-> Search Employee\")\n",
    "        print(\"5-> Exit\")\n",
    "\n",
    "        choice = input(\"Choose an option: \")\n",
    "\n",
    "        if choice == '1':\n",
    "            add_employee()   \n",
    "        elif choice == '2':\n",
    "            display_employees()  \n",
    "        elif choice == '3':\n",
    "            delete_employee() \n",
    "        elif choice == '4':\n",
    "            search_employee() \n",
    "        elif choice == '5':\n",
    "            save_employees()  \n",
    "            print(\"Data saved. Goodbye!\")\n",
    "        else:\n",
    "            print(\"Invalid choice. Please try again.\")\n",
    "\n",
    "if __name__ == \"__main__\":#  <<------\n",
    "    main()\n"
   ]
  },
  {
   "cell_type": "code",
   "execution_count": null,
   "id": "31931825",
   "metadata": {},
   "outputs": [],
   "source": []
  }
 ],
 "metadata": {
  "kernelspec": {
   "display_name": "Python 3 (ipykernel)",
   "language": "python",
   "name": "python3"
  },
  "language_info": {
   "codemirror_mode": {
    "name": "ipython",
    "version": 3
   },
   "file_extension": ".py",
   "mimetype": "text/x-python",
   "name": "python",
   "nbconvert_exporter": "python",
   "pygments_lexer": "ipython3",
   "version": "3.11.5"
  }
 },
 "nbformat": 4,
 "nbformat_minor": 5
}
